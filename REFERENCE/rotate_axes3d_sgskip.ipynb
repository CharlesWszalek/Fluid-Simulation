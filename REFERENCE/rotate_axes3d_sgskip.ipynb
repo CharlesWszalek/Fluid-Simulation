{
 "cells": [
  {
   "cell_type": "markdown",
   "metadata": {},
   "source": [
    "\n",
    "# Rotating a 3D plot\n",
    "\n",
    "A very simple animation of a rotating 3D plot about all three axes.\n",
    "\n",
    "See :doc:`wire3d_animation_sgskip` for another example of animating a 3D plot.\n",
    "\n",
    "(This example is skipped when building the documentation gallery because it\n",
    "intentionally takes a long time to run)\n"
   ]
  },
  {
   "cell_type": "code",
   "execution_count": null,
   "metadata": {
    "collapsed": false,
    "jupyter": {
     "outputs_hidden": false
    },
    "scrolled": true
   },
   "outputs": [],
   "source": [
    "import matplotlib.pyplot as plt\n",
    "\n",
    "from mpl_toolkits.mplot3d import axes3d\n",
    "\n",
    "fig = plt.figure()\n",
    "ax = fig.add_subplot(projection='3d')\n",
    "\n",
    "# Grab some example data and plot a basic wireframe.\n",
    "X, Y, Z = axes3d.get_test_data(0.05)\n",
    "ax.plot_wireframe(X, Y, Z, rstride=10, cstride=10)\n",
    "\n",
    "# Set the axis labels\n",
    "ax.set_xlabel('x')\n",
    "ax.set_ylabel('y')\n",
    "ax.set_zlabel('z')\n",
    "\n",
    "# Rotate the axes and update\n",
    "for angle in range(0, 360*4 + 1):\n",
    "    # Normalize the angle to the range [-180, 180] for display\n",
    "    angle_norm = (angle + 180) % 360 - 180\n",
    "\n",
    "    # Cycle through a full rotation of elevation, then azimuth, roll, and all\n",
    "    elev = azim = roll = 0\n",
    "    if angle <= 360:\n",
    "        elev = angle_norm\n",
    "    elif angle <= 360*2:\n",
    "        azim = angle_norm\n",
    "    elif angle <= 360*3:\n",
    "        roll = angle_norm\n",
    "    else:\n",
    "        elev = azim = roll = angle_norm\n",
    "\n",
    "    # Update the axis view and title\n",
    "    ax.view_init(elev, azim, roll)\n",
    "    plt.title('Elevation: %d°, Azimuth: %d°, Roll: %d°' % (elev, azim, roll))\n",
    "\n",
    "    plt.draw()\n",
    "    plt.pause(.001)"
   ]
  },
  {
   "cell_type": "code",
   "execution_count": null,
   "metadata": {},
   "outputs": [],
   "source": []
  }
 ],
 "metadata": {
  "kernelspec": {
   "display_name": "Python 3 (ipykernel)",
   "language": "python",
   "name": "python3"
  },
  "language_info": {
   "codemirror_mode": {
    "name": "ipython",
    "version": 3
   },
   "file_extension": ".py",
   "mimetype": "text/x-python",
   "name": "python",
   "nbconvert_exporter": "python",
   "pygments_lexer": "ipython3",
   "version": "3.9.12"
  }
 },
 "nbformat": 4,
 "nbformat_minor": 4
}
